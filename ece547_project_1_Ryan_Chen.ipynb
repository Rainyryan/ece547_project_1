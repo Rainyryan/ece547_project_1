{
  "nbformat": 4,
  "nbformat_minor": 0,
  "metadata": {
    "colab": {
      "provenance": [],
      "collapsed_sections": [],
      "authorship_tag": "ABX9TyPyeGB9IZg1GeysYDJmE9dM",
      "include_colab_link": true
    },
    "kernelspec": {
      "name": "python3",
      "display_name": "Python 3"
    },
    "language_info": {
      "name": "python"
    }
  },
  "cells": [
    {
      "cell_type": "markdown",
      "metadata": {
        "id": "view-in-github",
        "colab_type": "text"
      },
      "source": [
        "<a href=\"https://colab.research.google.com/github/Rainyryan/ece547_project_1/blob/main/ece547_project_1_Ryan_Chen.ipynb\" target=\"_parent\"><img src=\"https://colab.research.google.com/assets/colab-badge.svg\" alt=\"Open In Colab\"/></a>"
      ]
    },
    {
      "cell_type": "markdown",
      "source": [
        "# Problem 1"
      ],
      "metadata": {
        "id": "QhFMnPwHqvfC"
      }
    },
    {
      "cell_type": "markdown",
      "source": [
        "## (a)"
      ],
      "metadata": {
        "id": "sDUfd8iAtWPP"
      }
    },
    {
      "cell_type": "code",
      "execution_count": 4,
      "metadata": {
        "id": "s43JQ1RipsZE"
      },
      "outputs": [],
      "source": [
        "import random\n",
        "import math\n",
        "import statistics\n",
        "import matplotlib.pyplot as plt\n",
        "\n",
        "#Ryan is happy\n",
        "\n",
        "_lambda = 5\n",
        "num_arrival = 100\n",
        "arrival_num = []\n",
        "inter_arrival_times = []\n",
        "arrival_times = []\n",
        "arrival_time = 0\n",
        "\n",
        "print('arrival_NUM,INTER_arrival_T,arrival_T')\n",
        "\n",
        "for i in range(num_arrival):\n",
        "\tarrival_num.append(i)\n",
        "\t#Get a random probability value from the uniform distribution's PDF\n",
        "\tn = random.random()\n",
        "\n",
        "\t#Generate the inter-arrival time from the exponential distribution's CDF\n",
        "    #using the Inverse-CDF technique\n",
        "\tinter_arrival_time = -math.log(1.0 - n) / _lambda\n",
        "\tinter_arrival_times.append(inter_arrival_time)\n",
        "\n",
        "\t#Add the inter-arrival time to the running sum to get the next absolute arrival time\n",
        "\tarrival_time += inter_arrival_time\n",
        "\tarrival_times.append(arrival_time)\n",
        "\n",
        "\t#print it all out\n",
        "\tprint(str(i) +',' + str(inter_arrival_time) + ',' + str(arrival_time))\n",
        "\n",
        "#plot the inter-arrival times\n",
        "fig = plt.figure()\n",
        "fig.suptitle('Times between consecutive arrivals in a simulated Poisson process')\n",
        "plot, = plt.plot(arrival_num, inter_arrival_times, 'bo-', label='Inter-arrival time')\n",
        "plt.legend(handles=[plot])\n",
        "plt.xlabel('Index of arrival')\n",
        "plt.ylabel('Time')\n",
        "plt.show()\n",
        "\n",
        "\n",
        "#plot the absolute arrival times\n",
        "fig = plt.figure()\n",
        "fig.suptitle('Absolute times of consecutive arrivals in a simulated Poisson process')\n",
        "plot, = plt.plot(arrival_num, arrival_times, 'bo-', label='Absolute time of arrival')\n",
        "plt.legend(handles=[plot])\n",
        "plt.xlabel('Index of arrival')\n",
        "plt.ylabel('Time')\n",
        "plt.show()\n",
        "\n",
        "interval_nums = []\n",
        "num_arrival_in_interval = []\n",
        "interval_num = 1\n",
        "num_arrival = 0\n",
        "\n",
        "print('INTERVAL_NUM,NUM_arrivalS')\n",
        "\n",
        "for i in range(len(arrival_times)):\n",
        "\tarrival_time = arrival_times[i]\n",
        "\tif arrival_time <= interval_num:\n",
        "\t\tnum_arrival += 1\n",
        "\telse:\n",
        "\t\tinterval_nums.append(interval_num)\n",
        "\t\tnum_arrival_in_interval.append(num_arrival)\n",
        "\n",
        "\t\tprint(str(interval_num) +',' + str(num_arrival))\n",
        "\n",
        "\t\tinterval_num += 1\n",
        "\n",
        "\t\tnum_arrival = 1\n",
        "\n",
        "#print the mean number of arrivals per unit time\n",
        "print(statistics.mean(num_arrival_in_interval))\n",
        "\n",
        "#plot the number of arrivals in consecutive intervals\n",
        "fig = plt.figure()\n",
        "fig.suptitle('Number of arrivals occurring in consecutive intervals in a simulated Poisson process')\n",
        "plt.bar(interval_nums, num_arrival_in_interval)\n",
        "plt.xlabel('Index of interval')\n",
        "plt.ylabel('Number of arrivals')\n",
        "plt.show()\n",
        "\n",
        "\n"
      ]
    },
    {
      "cell_type": "markdown",
      "source": [
        "## (b)"
      ],
      "metadata": {
        "id": "IQv-XtXstb30"
      }
    },
    {
      "cell_type": "markdown",
      "source": [
        "## (c)"
      ],
      "metadata": {
        "id": "CiDPhKvYtcSf"
      }
    },
    {
      "cell_type": "markdown",
      "source": [
        "## (d)"
      ],
      "metadata": {
        "id": "9KDV9x5utccz"
      }
    }
  ]
}